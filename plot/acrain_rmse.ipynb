{
 "cells": [
  {
   "cell_type": "code",
   "execution_count": 1,
   "metadata": {},
   "outputs": [],
   "source": [
    "%timeit\n",
    "import matplotlib.pyplot as plt\n",
    "import numpy as np\n",
    "import netCDF4 as nc\n",
    "import os"
   ]
  },
  {
   "cell_type": "code",
   "execution_count": 2,
   "metadata": {},
   "outputs": [],
   "source": [
    "%timeit\n",
    "Case  = \"16 Typhoon cases\"\n",
    "fTime = \"20100919060000\"\n",
    "period= \"All\"\n",
    "\n",
    "files=np.zeros(4)\n",
    "\n",
    "path1='/home/miayao/average/maple_144/alldata/'+period\n",
    "path2='/home/miayao/average/maple_144/typhoon/'+period\n",
    "path3='/home/miayao/average/maple_144/QPESUMS/'+period\n",
    "\n",
    "files1=os.listdir(path1)\n",
    "files2=os.listdir(path2)\n",
    "files3=os.listdir(path3)\n",
    "\n",
    "\n",
    "ets_maple48=[]\n",
    "ets_maple144=[]\n",
    "ets_com=[]\n",
    "ets_wrf=[]\n",
    "a=0\n",
    "b=0\n",
    "c=0\n",
    "d=0\n",
    "\n",
    "for file in files1:\n",
    "    if not os.path.isdir(file):\n",
    "        f=nc.Dataset(path1+'/'+file)\n",
    "        ets_maple48.append((f.variables['RMSE'][:]))\n",
    "        a +=1\n",
    "\n",
    "for file in files2:\n",
    "    if not os.path.isdir(file):\n",
    "        f=nc.Dataset(path2+'/'+file)\n",
    "        ets_maple144.append((f.variables['RMSE'][:]))\n",
    "        b +=1\n",
    "        \n",
    "for file in files3:\n",
    "    if not os.path.isdir(file):\n",
    "        f=nc.Dataset(path3+'/'+file)\n",
    "        ets_com.append((f.variables['RMSE'][:]))\n",
    "        c +=1\n",
    "        "
   ]
  },
  {
   "cell_type": "code",
   "execution_count": 3,
   "metadata": {},
   "outputs": [],
   "source": [
    "ets_maple48=np.array(ets_maple48[:])\n",
    "ets_maple48=np.where(ets_maple48==-999,np.nan,ets_maple48)\n",
    "avg_ets_maple48=np.nanmean(ets_maple48,axis=0)\n",
    "\n",
    "ets_maple144=np.array(ets_maple144[:])\n",
    "ets_maple144=np.where(ets_maple144==-999,np.nan,ets_maple144)\n",
    "avg_ets_maple144=np.nanmean(ets_maple144,axis=0)\n",
    "\n",
    "ets_com=np.array(ets_com[:])\n",
    "ets_com=np.where(ets_com==-999,np.nan,ets_com)\n",
    "avg_ets_com=np.nanmean(ets_com,axis=0)\n"
   ]
  },
  {
   "cell_type": "code",
   "execution_count": 42,
   "metadata": {},
   "outputs": [
    {
     "name": "stdout",
     "output_type": "stream",
     "text": [
      "(6,)\n"
     ]
    },
    {
     "data": {
      "image/png": "[encoded data removed]",
      "text/plain": [
       "<Figure size 576x432 with 1 Axes>"
      ]
     },
     "metadata": {},
     "output_type": "display_data"
    }
   ],
   "source": [
    "#####Start plot ###############\n",
    "print(avg_ets_com.shape)\n",
    "barWidth = 0.2\n",
    "\n",
    "x =np.linspace(0.,5,6)\n",
    "\n",
    "plt.figure(figsize=(8,6))\n",
    "plt.bar(x-0.2,avg_ets_maple48,barWidth,label='Alldata',color='blue',bottom=1.0)\n",
    "plt.bar(x-0.0,avg_ets_maple144,barWidth,label='Typhoon',color='lawngreen',bottom=1.0)\n",
    "plt.bar(x+0.2,avg_ets_com,barWidth,label='QPESUMS',color='red',bottom=1.0)\n",
    "plt.xticks(x,[1,2,3,4,5,6])\n",
    "plt.xlim(-0.5,3.5)\n",
    "plt.title(\"16 Typhoon cases\",size=30,weight='heavy')\n",
    "plt.ylabel(\"RMSE (mm)\",size=20,weight='heavy')\n",
    "plt.xlabel(\"Hour\", size=20, weight='heavy')\n",
    "plt.legend(loc=2, prop={'size': 18})\n",
    "plt.savefig('/home/miayao/average/'+Case+'_rmse_'+period+'_all.png',dpi=300)"
   ]
  },
  {
   "cell_type": "code",
   "execution_count": null,
   "metadata": {},
   "outputs": [],
   "source": []
  }
 ],
 "metadata": {
  "kernelspec": {
   "display_name": "Python 3",
   "language": "python",
   "name": "python3"
  },
  "language_info": {
   "codemirror_mode": {
    "name": "ipython",
    "version": 3
   },
   "file_extension": ".py",
   "mimetype": "text/x-python",
   "name": "python",
   "nbconvert_exporter": "python",
   "pygments_lexer": "ipython3",
   "version": "3.6.4"
  }
 },
 "nbformat": 4,
 "nbformat_minor": 2
}
