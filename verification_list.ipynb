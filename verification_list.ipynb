{
 "cells": [
  {
   "cell_type": "markdown",
   "metadata": {},
   "source": [
    "#  Continuous Verification\n",
    "\n"
   ]
  },
  {
   "cell_type": "markdown",
   "metadata": {},
   "source": [
    "    SCC ( Spatial correlation coefficient)\n",
    "\n",
    "$$ SCC = \\frac{\\sum_{}^{}{(F-\\bar F)(O-\\bar O)}}{\\sqrt{\\sum_{}^{}{(F-\\bar F)^2(O-\\bar O)^2}}}$$ \n",
    "\n",
    "    RMSE ( Root Mean Square Error)\n",
    "\n",
    "$$ RMSE = \\sqrt{\\frac{\\sum_{i=1}^{N}{(F - O)^2}}{N}}$$ \n",
    "\n"
   ]
  },
  {
   "cell_type": "markdown",
   "metadata": {},
   "source": [
    "# Categorical Verification"
   ]
  },
  {
   "cell_type": "markdown",
   "metadata": {},
   "source": [
    "<img src=\"table.png\" width=700 >\n",
    "\n",
    "    POD ( Probability of detection )\n",
    "$$ POD = \\frac{a}{a+b}$$\n",
    "\n",
    "    FAR (False Alarm rate)\n",
    "$$ FAR = \\frac{c}{a+c}$$\n",
    "\n",
    "    CSI ( Critical success index )\n",
    "$$ CSI = \\frac{a}{a+b+c}$$\n",
    "\n",
    "    Bias \n",
    "$$ Bias = \\frac{a+c}{a+b}$$\n",
    "\n",
    "    ETS (Equitable threat score )\n",
    "$$ ETS = \\frac{a-R}{a+b+c-R} $$  \n",
    "\n",
    "$$ R = \\frac{(a+c)*(a+c)}{a+b+c+d)} $$"
   ]
  },
  {
   "cell_type": "markdown",
   "metadata": {},
   "source": [
    "# Neighborhood Method"
   ]
  },
  {
   "cell_type": "markdown",
   "metadata": {},
   "source": [
    "FSS ( Fraction Skill Score )\n",
    "$$ FSS_{(L)} = 1 - \\frac{\\frac{1}{N}\\sum_i\\sum_j[O_{(L)}(i,j) -F_{(L)}(i,j)]^2}{\\frac{1}{N}\\sum_i\\sum_jO_{(L)}(i,j)^2 +\\frac{1}{N}\\sum_i\\sum_jF_{(L)}(i,j)^2}$$"
   ]
  }
 ],
 "metadata": {
  "kernelspec": {
   "display_name": "Python 3",
   "language": "python",
   "name": "python3"
  },
  "language_info": {
   "codemirror_mode": {
    "name": "ipython",
    "version": 3
   },
   "file_extension": ".py",
   "mimetype": "text/x-python",
   "name": "python",
   "nbconvert_exporter": "python",
   "pygments_lexer": "ipython3",
   "version": "3.6.4"
  }
 },
 "nbformat": 4,
 "nbformat_minor": 2
}
